{
 "cells": [
  {
   "attachments": {},
   "cell_type": "markdown",
   "metadata": {},
   "source": [
    "# Clustering\n",
    "Identifying support and resistance by clustering on a price series\n",
    "\n",
    "### Load config"
   ]
  },
  {
   "cell_type": "code",
   "execution_count": 1,
   "metadata": {},
   "outputs": [],
   "source": [
    "import yaml\n",
    "import datetime\n",
    "import pandas as pd\n",
    "import matplotlib.pyplot as plt\n",
    "import mplfinance as mpf\n",
    "import numpy as np\n",
    "\n",
    "from alpaca.data.historical import StockHistoricalDataClient\n",
    "from alpaca.data.requests import StockBarsRequest\n",
    "from alpaca.data.timeframe import TimeFrame\n",
    "\n",
    "with open(\"../config.yaml\") as f:\n",
    "    config = yaml.safe_load(f)\n",
    "\n",
    "stock_client = StockHistoricalDataClient(config['alpaca']['key'], config['alpaca']['secret'])"
   ]
  },
  {
   "cell_type": "code",
   "execution_count": 2,
   "metadata": {},
   "outputs": [],
   "source": [
    "symbol = \"SPY\"\n",
    "\n",
    "request_params = StockBarsRequest(\n",
    "                        symbol_or_symbols=symbol,\n",
    "                        timeframe=TimeFrame.Day,\n",
    "                        start=datetime.datetime(2022, 1, 1),\n",
    "                        end=datetime.datetime(2023, 1, 1)\n",
    "                 )\n",
    "\n",
    "bars = stock_client.get_stock_bars(request_params).df.loc[symbol]"
   ]
  },
  {
   "cell_type": "code",
   "execution_count": 3,
   "metadata": {},
   "outputs": [
    {
     "data": {
      "text/html": [
       "<div>\n",
       "<style scoped>\n",
       "    .dataframe tbody tr th:only-of-type {\n",
       "        vertical-align: middle;\n",
       "    }\n",
       "\n",
       "    .dataframe tbody tr th {\n",
       "        vertical-align: top;\n",
       "    }\n",
       "\n",
       "    .dataframe thead th {\n",
       "        text-align: right;\n",
       "    }\n",
       "</style>\n",
       "<table border=\"1\" class=\"dataframe\">\n",
       "  <thead>\n",
       "    <tr style=\"text-align: right;\">\n",
       "      <th></th>\n",
       "      <th>open</th>\n",
       "      <th>high</th>\n",
       "      <th>low</th>\n",
       "      <th>close</th>\n",
       "      <th>volume</th>\n",
       "      <th>trade_count</th>\n",
       "      <th>vwap</th>\n",
       "    </tr>\n",
       "    <tr>\n",
       "      <th>timestamp</th>\n",
       "      <th></th>\n",
       "      <th></th>\n",
       "      <th></th>\n",
       "      <th></th>\n",
       "      <th></th>\n",
       "      <th></th>\n",
       "      <th></th>\n",
       "    </tr>\n",
       "  </thead>\n",
       "  <tbody>\n",
       "    <tr>\n",
       "      <th>2022-01-03 05:00:00+00:00</th>\n",
       "      <td>476.30</td>\n",
       "      <td>477.85</td>\n",
       "      <td>473.85</td>\n",
       "      <td>477.71</td>\n",
       "      <td>72604064.0</td>\n",
       "      <td>534803.0</td>\n",
       "      <td>476.526964</td>\n",
       "    </tr>\n",
       "    <tr>\n",
       "      <th>2022-01-04 05:00:00+00:00</th>\n",
       "      <td>479.22</td>\n",
       "      <td>479.98</td>\n",
       "      <td>475.58</td>\n",
       "      <td>477.55</td>\n",
       "      <td>71129958.0</td>\n",
       "      <td>565259.0</td>\n",
       "      <td>477.868706</td>\n",
       "    </tr>\n",
       "    <tr>\n",
       "      <th>2022-01-05 05:00:00+00:00</th>\n",
       "      <td>477.16</td>\n",
       "      <td>477.98</td>\n",
       "      <td>468.29</td>\n",
       "      <td>468.38</td>\n",
       "      <td>102085598.0</td>\n",
       "      <td>784945.0</td>\n",
       "      <td>473.338984</td>\n",
       "    </tr>\n",
       "    <tr>\n",
       "      <th>2022-01-06 05:00:00+00:00</th>\n",
       "      <td>467.89</td>\n",
       "      <td>470.82</td>\n",
       "      <td>465.43</td>\n",
       "      <td>467.94</td>\n",
       "      <td>86499197.0</td>\n",
       "      <td>803296.0</td>\n",
       "      <td>468.480666</td>\n",
       "    </tr>\n",
       "    <tr>\n",
       "      <th>2022-01-07 05:00:00+00:00</th>\n",
       "      <td>467.95</td>\n",
       "      <td>469.20</td>\n",
       "      <td>464.65</td>\n",
       "      <td>466.09</td>\n",
       "      <td>84895774.0</td>\n",
       "      <td>623749.0</td>\n",
       "      <td>466.940793</td>\n",
       "    </tr>\n",
       "    <tr>\n",
       "      <th>...</th>\n",
       "      <td>...</td>\n",
       "      <td>...</td>\n",
       "      <td>...</td>\n",
       "      <td>...</td>\n",
       "      <td>...</td>\n",
       "      <td>...</td>\n",
       "      <td>...</td>\n",
       "    </tr>\n",
       "    <tr>\n",
       "      <th>2022-12-23 05:00:00+00:00</th>\n",
       "      <td>379.65</td>\n",
       "      <td>383.06</td>\n",
       "      <td>378.03</td>\n",
       "      <td>382.91</td>\n",
       "      <td>58757557.0</td>\n",
       "      <td>441157.0</td>\n",
       "      <td>381.501493</td>\n",
       "    </tr>\n",
       "    <tr>\n",
       "      <th>2022-12-27 05:00:00+00:00</th>\n",
       "      <td>382.79</td>\n",
       "      <td>383.15</td>\n",
       "      <td>379.65</td>\n",
       "      <td>381.40</td>\n",
       "      <td>51494435.0</td>\n",
       "      <td>427772.0</td>\n",
       "      <td>381.776690</td>\n",
       "    </tr>\n",
       "    <tr>\n",
       "      <th>2022-12-28 05:00:00+00:00</th>\n",
       "      <td>381.33</td>\n",
       "      <td>383.39</td>\n",
       "      <td>376.42</td>\n",
       "      <td>376.66</td>\n",
       "      <td>70660057.0</td>\n",
       "      <td>500857.0</td>\n",
       "      <td>379.062108</td>\n",
       "    </tr>\n",
       "    <tr>\n",
       "      <th>2022-12-29 05:00:00+00:00</th>\n",
       "      <td>379.63</td>\n",
       "      <td>384.35</td>\n",
       "      <td>379.08</td>\n",
       "      <td>383.44</td>\n",
       "      <td>64517045.0</td>\n",
       "      <td>480519.0</td>\n",
       "      <td>382.399055</td>\n",
       "    </tr>\n",
       "    <tr>\n",
       "      <th>2022-12-30 05:00:00+00:00</th>\n",
       "      <td>380.64</td>\n",
       "      <td>382.58</td>\n",
       "      <td>378.43</td>\n",
       "      <td>382.43</td>\n",
       "      <td>83474793.0</td>\n",
       "      <td>544591.0</td>\n",
       "      <td>381.220108</td>\n",
       "    </tr>\n",
       "  </tbody>\n",
       "</table>\n",
       "<p>251 rows × 7 columns</p>\n",
       "</div>"
      ],
      "text/plain": [
       "                             open    high     low   close       volume  \\\n",
       "timestamp                                                                \n",
       "2022-01-03 05:00:00+00:00  476.30  477.85  473.85  477.71   72604064.0   \n",
       "2022-01-04 05:00:00+00:00  479.22  479.98  475.58  477.55   71129958.0   \n",
       "2022-01-05 05:00:00+00:00  477.16  477.98  468.29  468.38  102085598.0   \n",
       "2022-01-06 05:00:00+00:00  467.89  470.82  465.43  467.94   86499197.0   \n",
       "2022-01-07 05:00:00+00:00  467.95  469.20  464.65  466.09   84895774.0   \n",
       "...                           ...     ...     ...     ...          ...   \n",
       "2022-12-23 05:00:00+00:00  379.65  383.06  378.03  382.91   58757557.0   \n",
       "2022-12-27 05:00:00+00:00  382.79  383.15  379.65  381.40   51494435.0   \n",
       "2022-12-28 05:00:00+00:00  381.33  383.39  376.42  376.66   70660057.0   \n",
       "2022-12-29 05:00:00+00:00  379.63  384.35  379.08  383.44   64517045.0   \n",
       "2022-12-30 05:00:00+00:00  380.64  382.58  378.43  382.43   83474793.0   \n",
       "\n",
       "                           trade_count        vwap  \n",
       "timestamp                                           \n",
       "2022-01-03 05:00:00+00:00     534803.0  476.526964  \n",
       "2022-01-04 05:00:00+00:00     565259.0  477.868706  \n",
       "2022-01-05 05:00:00+00:00     784945.0  473.338984  \n",
       "2022-01-06 05:00:00+00:00     803296.0  468.480666  \n",
       "2022-01-07 05:00:00+00:00     623749.0  466.940793  \n",
       "...                                ...         ...  \n",
       "2022-12-23 05:00:00+00:00     441157.0  381.501493  \n",
       "2022-12-27 05:00:00+00:00     427772.0  381.776690  \n",
       "2022-12-28 05:00:00+00:00     500857.0  379.062108  \n",
       "2022-12-29 05:00:00+00:00     480519.0  382.399055  \n",
       "2022-12-30 05:00:00+00:00     544591.0  381.220108  \n",
       "\n",
       "[251 rows x 7 columns]"
      ]
     },
     "execution_count": 3,
     "metadata": {},
     "output_type": "execute_result"
    }
   ],
   "source": [
    "bars"
   ]
  },
  {
   "cell_type": "code",
   "execution_count": 4,
   "metadata": {},
   "outputs": [
    {
     "data": {
      "image/png": "[encoded data removed]",
      "text/plain": [
       "<Figure size 800x575 with 2 Axes>"
      ]
     },
     "metadata": {},
     "output_type": "display_data"
    }
   ],
   "source": [
    "bars = bars[(bars.index.month == 12)]\n",
    "mpf.plot(bars, type=\"candle\")"
   ]
  },
  {
   "cell_type": "code",
   "execution_count": 5,
   "metadata": {},
   "outputs": [
    {
     "data": {
      "text/plain": [
       "       timestamp                \n",
       "open   2022-12-01 05:00:00+00:00    408.77\n",
       "       2022-12-02 05:00:00+00:00    402.25\n",
       "       2022-12-05 05:00:00+00:00    403.95\n",
       "       2022-12-06 05:00:00+00:00    399.42\n",
       "       2022-12-07 05:00:00+00:00    392.94\n",
       "                                     ...  \n",
       "close  2022-12-23 05:00:00+00:00    382.91\n",
       "       2022-12-27 05:00:00+00:00    381.40\n",
       "       2022-12-28 05:00:00+00:00    376.66\n",
       "       2022-12-29 05:00:00+00:00    383.44\n",
       "       2022-12-30 05:00:00+00:00    382.43\n",
       "Length: 84, dtype: float64"
      ]
     },
     "execution_count": 5,
     "metadata": {},
     "output_type": "execute_result"
    }
   ],
   "source": [
    "prices = bars.drop([\"volume\", \"vwap\", \"trade_count\"], axis=1).unstack()\n",
    "\n",
    "prices"
   ]
  },
  {
   "cell_type": "code",
   "execution_count": 6,
   "metadata": {},
   "outputs": [
    {
     "name": "stderr",
     "output_type": "stream",
     "text": [
      "/home/liak/project/venv/lib/python3.10/site-packages/sklearn/cluster/_kmeans.py:870: FutureWarning: The default value of `n_init` will change from 10 to 'auto' in 1.4. Set the value of `n_init` explicitly to suppress the warning\n",
      "  warnings.warn(\n"
     ]
    },
    {
     "data": {
      "image/png": "[encoded data removed]",
      "text/plain": [
       "<Figure size 800x575 with 2 Axes>"
      ]
     },
     "metadata": {},
     "output_type": "display_data"
    }
   ],
   "source": [
    "from sklearn.cluster import k_means\n",
    "\n",
    "levels = k_means(np.expand_dims(prices.values, 1), 4)[0]\n",
    "mpf.plot(bars, type=\"candle\", hlines=list(levels.flatten()))"
   ]
  }
 ],
 "metadata": {
  "kernelspec": {
   "display_name": "venv",
   "language": "python",
   "name": "python3"
  },
  "language_info": {
   "codemirror_mode": {
    "name": "ipython",
    "version": 3
   },
   "file_extension": ".py",
   "mimetype": "text/x-python",
   "name": "python",
   "nbconvert_exporter": "python",
   "pygments_lexer": "ipython3",
   "version": "3.10.6"
  },
  "orig_nbformat": 4
 },
 "nbformat": 4,
 "nbformat_minor": 2
}
