{
 "cells": [
  {
   "attachments": {},
   "cell_type": "markdown",
   "metadata": {},
   "source": [
    "# Statistical arbitrage\n",
    "Cross sectional analysis sketch for identifying cointegrated pairs\n",
    "\n",
    "### Load config"
   ]
  },
  {
   "cell_type": "code",
   "execution_count": 1,
   "metadata": {},
   "outputs": [],
   "source": [
    "import yaml\n",
    "import datetime\n",
    "import pandas as pd\n",
    "import matplotlib.pyplot as plt\n",
    "import numpy as np\n",
    "\n",
    "from alpaca.data.historical import StockHistoricalDataClient\n",
    "from alpaca.data.requests import StockBarsRequest\n",
    "from alpaca.data.timeframe import TimeFrame\n",
    "from alpaca.trading.client import TradingClient\n",
    "from alpaca.trading.requests import GetAssetsRequest\n",
    "from alpaca.trading.enums import *\n",
    "\n",
    "with open(\"../config.yaml\") as f:\n",
    "    config = yaml.safe_load(f)\n",
    "\n",
    "trading_client = TradingClient(config['alpaca']['key'], config['alpaca']['secret'])\n",
    "stock_client = StockHistoricalDataClient(config['alpaca']['key'], config['alpaca']['secret'])"
   ]
  },
  {
   "attachments": {},
   "cell_type": "markdown",
   "metadata": {},
   "source": [
    "### Get asset universe and historical data\n",
    "\n",
    "Example:\n",
    "* 100 symbols\n",
    "* Daily prices for 1 year"
   ]
  },
  {
   "cell_type": "code",
   "execution_count": 2,
   "metadata": {},
   "outputs": [],
   "source": [
    "assets = list(map(dict, trading_client.get_all_assets(GetAssetsRequest(status=AssetStatus.ACTIVE))))\n",
    "assets = pd.DataFrame(assets).set_index(\"id\")"
   ]
  },
  {
   "cell_type": "code",
   "execution_count": 3,
   "metadata": {},
   "outputs": [],
   "source": [
    "asset_filter = assets.tradable & assets.marginable & assets.shortable & assets.fractionable\n",
    "\n",
    "assets[asset_filter].drop([\n",
    "    \"status\",\n",
    "    \"tradable\",\n",
    "    \"marginable\",\n",
    "    \"shortable\",\n",
    "    \"easy_to_borrow\",\n",
    "    \"fractionable\",\n",
    "    \"min_order_size\",\n",
    "    \"min_trade_increment\",\n",
    "    \"price_increment\"\n",
    "], axis=1).to_csv(\"assets.csv\")"
   ]
  },
  {
   "cell_type": "code",
   "execution_count": 4,
   "metadata": {},
   "outputs": [],
   "source": [
    "symbol_list = list(assets[asset_filter].symbol)[:100]"
   ]
  },
  {
   "cell_type": "code",
   "execution_count": 5,
   "metadata": {},
   "outputs": [],
   "source": [
    "request_params = StockBarsRequest(\n",
    "                        symbol_or_symbols=symbol_list,\n",
    "                        timeframe=TimeFrame.Day,\n",
    "                        start=datetime.datetime(2022, 1, 1),\n",
    "                        end=datetime.datetime(2023, 1, 1)\n",
    "                 )\n",
    "\n",
    "bars = stock_client.get_stock_bars(request_params).df"
   ]
  },
  {
   "attachments": {},
   "cell_type": "markdown",
   "metadata": {},
   "source": [
    "Log returns sample"
   ]
  },
  {
   "cell_type": "code",
   "execution_count": 6,
   "metadata": {},
   "outputs": [
    {
     "data": {
      "text/plain": [
       "symbol  symbol\n",
       "DGL     SGOL      0.992079\n",
       "DGRO    DGRW      0.984106\n",
       "DFAI    DFAX      0.981418\n",
       "DGRO    DIA       0.980256\n",
       "DBP     DGL       0.976223\n",
       "                    ...   \n",
       "DGRW    SH       -0.957802\n",
       "MOAT    SH       -0.957904\n",
       "DGRO    SH       -0.961885\n",
       "DIA     SH       -0.963928\n",
       "DFAC    SH       -0.987957\n",
       "Length: 4950, dtype: float64"
      ]
     },
     "execution_count": 6,
     "metadata": {},
     "output_type": "execute_result"
    }
   ],
   "source": [
    "close = bars.close.unstack().transpose().dropna()\n",
    "log_returns = np.log(close.pct_change() + 1).dropna()\n",
    "corr_matrix = log_returns.corr()\n",
    "returns_correlation = corr_matrix.where(np.triu(np.ones(corr_matrix.shape), k=1).astype(bool)).stack().sort_values(ascending=False)\n",
    "\n",
    "returns_correlation"
   ]
  },
  {
   "attachments": {},
   "cell_type": "markdown",
   "metadata": {},
   "source": [
    "### Pairwise price cointegration p-values\n",
    "\n",
    "Pairwise calculation of 251 data points (1 year EOD prices) for 100 assets (4950 pairs) took ~1m 43.5s."
   ]
  },
  {
   "cell_type": "code",
   "execution_count": 15,
   "metadata": {},
   "outputs": [
    {
     "data": {
      "text/plain": [
       "(251, 100)"
      ]
     },
     "execution_count": 15,
     "metadata": {},
     "output_type": "execute_result"
    }
   ],
   "source": [
    "close.shape"
   ]
  },
  {
   "cell_type": "code",
   "execution_count": 7,
   "metadata": {},
   "outputs": [],
   "source": [
    "from statsmodels.tsa.api import coint\n",
    "import itertools\n",
    "\n",
    "coint_result = pd.DataFrame(columns=close.keys(), index=close.keys())\n",
    "\n",
    "for pair in itertools.combinations(close.keys(), 2):\n",
    "    # p values\n",
    "    coint_result.loc[pair] = coint(close[pair[0]], close[pair[1]])[1]\n"
   ]
  },
  {
   "cell_type": "code",
   "execution_count": 8,
   "metadata": {},
   "outputs": [],
   "source": [
    "coint_pvalues = coint_result.unstack().sort_values().dropna()"
   ]
  },
  {
   "attachments": {},
   "cell_type": "markdown",
   "metadata": {},
   "source": [
    "At the 1% significance level there were 295 pairs (>5% of the 4950 pairs) identified (fluke?)."
   ]
  },
  {
   "cell_type": "code",
   "execution_count": 9,
   "metadata": {},
   "outputs": [
    {
     "data": {
      "text/plain": [
       "symbol  symbol\n",
       "RCKY    DDL            0.0\n",
       "DGNU    DDL            0.0\n",
       "DEN     DDL            0.0\n",
       "MNMD    DDL            0.0\n",
       "RHI     DDL            0.0\n",
       "                    ...   \n",
       "MNSO    MNRO      0.009905\n",
       "RCL     RBLX      0.009951\n",
       "MODG    DIN       0.009969\n",
       "SGRY    MNDY       0.00999\n",
       "MNST    DKNG      0.009991\n",
       "Length: 295, dtype: object"
      ]
     },
     "execution_count": 9,
     "metadata": {},
     "output_type": "execute_result"
    }
   ],
   "source": [
    "coint_pvalues[(coint_pvalues < 0.01) & (coint_pvalues > 0)]"
   ]
  },
  {
   "attachments": {},
   "cell_type": "markdown",
   "metadata": {},
   "source": [
    "Note rounding error in display"
   ]
  },
  {
   "cell_type": "code",
   "execution_count": 10,
   "metadata": {},
   "outputs": [
    {
     "data": {
      "text/plain": [
       "3.217502448206104e-08"
      ]
     },
     "execution_count": 10,
     "metadata": {},
     "output_type": "execute_result"
    }
   ],
   "source": [
    "coint_pvalues[(\"RCKY\", \"DDL\")]"
   ]
  }
 ],
 "metadata": {
  "kernelspec": {
   "display_name": "research",
   "language": "python",
   "name": "research"
  },
  "language_info": {
   "codemirror_mode": {
    "name": "ipython",
    "version": 3
   },
   "file_extension": ".py",
   "mimetype": "text/x-python",
   "name": "python",
   "nbconvert_exporter": "python",
   "pygments_lexer": "ipython3",
   "version": "3.10.6"
  },
  "orig_nbformat": 4,
  "vscode": {
   "interpreter": {
    "hash": "31f2aee4e71d21fbe5cf8b01ff0e069b9275f58929596ceb00d14d90e3e16cd6"
   }
  }
 },
 "nbformat": 4,
 "nbformat_minor": 2
}
